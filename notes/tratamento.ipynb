{
 "cells": [
  {
   "cell_type": "code",
   "execution_count": 2,
   "metadata": {},
   "outputs": [],
   "source": [
    "import os\n",
    "from pyspark.sql import SparkSession\n",
    "from pyspark.sql.functions import posexplode, explode, udf, when, regexp_replace, monotonically_increasing_id, lower\n",
    "from  pyspark.sql.types import StructType, StructField, StringType, MapType\n",
    "from googletrans import Translator"
   ]
  },
  {
   "cell_type": "code",
   "execution_count": 3,
   "metadata": {},
   "outputs": [],
   "source": [
    "os.environ['PYSPARK_SUBMIT_ARGS'] = \"\"\"\n",
    "    --conf spark.app.name=\"teste\"\n",
    "    --conf spark.driver.memory=12g\n",
    "    --conf spark.executor.memory=12g\n",
    "    pyspark-shell\n",
    "    \"\"\""
   ]
  },
  {
   "cell_type": "code",
   "execution_count": 4,
   "metadata": {},
   "outputs": [
    {
     "name": "stderr",
     "output_type": "stream",
     "text": [
      "22/05/19 14:35:24 WARN Utils: Your hostname, DP6-PE07RZJL resolves to a loopback address: 127.0.1.1; using 192.168.15.200 instead (on interface wifi0)\n",
      "22/05/19 14:35:24 WARN Utils: Set SPARK_LOCAL_IP if you need to bind to another address\n",
      "WARNING: An illegal reflective access operation has occurred\n",
      "WARNING: Illegal reflective access by org.apache.spark.unsafe.Platform (file:/root/projetos/kaggle/markdown_order/.markdown/lib/python3.8/site-packages/pyspark/jars/spark-unsafe_2.12-3.2.1.jar) to constructor java.nio.DirectByteBuffer(long,int)\n",
      "WARNING: Please consider reporting this to the maintainers of org.apache.spark.unsafe.Platform\n",
      "WARNING: Use --illegal-access=warn to enable warnings of further illegal reflective access operations\n",
      "WARNING: All illegal access operations will be denied in a future release\n",
      "Using Spark's default log4j profile: org/apache/spark/log4j-defaults.properties\n",
      "Setting default log level to \"WARN\".\n",
      "To adjust logging level use sc.setLogLevel(newLevel). For SparkR, use setLogLevel(newLevel).\n",
      "22/05/19 14:35:24 WARN NativeCodeLoader: Unable to load native-hadoop library for your platform... using builtin-java classes where applicable\n"
     ]
    }
   ],
   "source": [
    "spark = SparkSession.builder.appName(\"spk\").getOrCreate()"
   ]
  },
  {
   "cell_type": "code",
   "execution_count": 47,
   "metadata": {},
   "outputs": [],
   "source": [
    "DADOS = '../dados/train/'\n",
    "SAIDA = '../dados/tratados/'"
   ]
  },
  {
   "cell_type": "code",
   "execution_count": 48,
   "metadata": {},
   "outputs": [],
   "source": [
    "json_schema = StructType([\n",
    "  StructField('cell_type',  MapType(StringType(),StringType()), False),\n",
    "  StructField('source',  MapType(StringType(),StringType()), False)\n",
    "])"
   ]
  },
  {
   "cell_type": "code",
   "execution_count": 120,
   "metadata": {},
   "outputs": [],
   "source": [
    "df = spark.read.option(\"multiline\", \"true\").json(DADOS, schema=json_schema)\n"
   ]
  },
  {
   "cell_type": "code",
   "execution_count": 97,
   "metadata": {},
   "outputs": [],
   "source": [
    "df = df.limit(10000)"
   ]
  },
  {
   "cell_type": "code",
   "execution_count": 121,
   "metadata": {},
   "outputs": [],
   "source": [
    "df = df.withColumn('note_id', monotonically_increasing_id())"
   ]
  },
  {
   "cell_type": "code",
   "execution_count": 122,
   "metadata": {},
   "outputs": [],
   "source": [
    "df_cell_type = df.select( \n",
    "    posexplode( df.cell_type ), \n",
    "    df.note_id\n",
    ").withColumnRenamed('value', 'tipo')"
   ]
  },
  {
   "cell_type": "code",
   "execution_count": 123,
   "metadata": {},
   "outputs": [],
   "source": [
    "df_source = df.select( \n",
    "    explode( df.source ),\n",
    "    df.note_id\n",
    ")"
   ]
  },
  {
   "cell_type": "code",
   "execution_count": 124,
   "metadata": {},
   "outputs": [
    {
     "name": "stderr",
     "output_type": "stream",
     "text": []
    }
   ],
   "source": [
    "df_source = df_source.localCheckpoint()"
   ]
  },
  {
   "cell_type": "code",
   "execution_count": 125,
   "metadata": {},
   "outputs": [],
   "source": [
    "df_source = df_source.withColumn('value',\n",
    "    # regexp_replace(\n",
    "        # regexp_replace(\n",
    "            regexp_replace(\n",
    "                regexp_replace(\n",
    "                    regexp_replace(\n",
    "                        regexp_replace(df_source['value'] , r'<[^>]+>', ' '),\n",
    "                    r'\\!\\[([\\S\\s]*?)\\][\\S\\s]*?\\)', '$1'),\n",
    "                r\"b\\'[\\s\\S]*?\\'\", '< bytes >'),\n",
    "            r'b\\\"[\\s\\S]*?\\\"', '< bytes >'),\n",
    "        # r'<\\s*table[\\S\\s]*?table\\s*>', '< table >'),\n",
    "    # r'<[\\S\\s]*?src\\s*=[\\S\\s]*?>', '< image >')    \n",
    ")\n",
    "\n"
   ]
  },
  {
   "cell_type": "code",
   "execution_count": 126,
   "metadata": {},
   "outputs": [],
   "source": [
    "df_t = df_cell_type.join(df_source, ['key', 'note_id'], 'inner').drop('key')"
   ]
  },
  {
   "cell_type": "code",
   "execution_count": 127,
   "metadata": {},
   "outputs": [
    {
     "name": "stderr",
     "output_type": "stream",
     "text": []
    }
   ],
   "source": [
    "df_t = df_t.localCheckpoint()"
   ]
  },
  {
   "cell_type": "code",
   "execution_count": null,
   "metadata": {},
   "outputs": [],
   "source": [
    "from pyspark.sql.functions import length"
   ]
  },
  {
   "cell_type": "code",
   "execution_count": 94,
   "metadata": {},
   "outputs": [
    {
     "data": {
      "text/plain": [
       "Row(note_id=65, pos=25, tipo='markdown', value='# Introduction\\n* **Note: Turn on your GPU.**\\n* In this kernel we will generate new abstract arts using **DCGANs**. DCGANs is a method which used for generating new image data and it is very effective. \\n* Here is a example of bedrooms generated by DCGANs: < image ><br>\\n         <p class=\"card-text\">A kernel about generating clothes using traditional GANs</p>\\n         <a href=\"https://www.kaggle.com/mrhippo/fashion-dataset-gans\" class=\"btn btn-primary\" style=\"color:white;\">Go to Post</a>\\n      </div>\\n    </div>\\n  </div> \\n</div>\\n\\n\\n<hr>\\n\\n\\n## Content\\n* We are using [Abstract Art Gallery](https://www.kaggle.com/bryanb/abstract-art-gallery) dataset.\\n\\n\\n* Imports and Dataset\\n* Preparing Data\\n* Generator\\n* Discriminator\\n* DCGANs\\n* Training\\n* Conclusion')"
      ]
     },
     "execution_count": 94,
     "metadata": {},
     "output_type": "execute_result"
    }
   ],
   "source": [
    "df_t.filter( (df_t.note_id == 65 ) &  (df_t.pos == 25) )\\\n",
    "    .withColumn('value', regexp_replace(df_source['value'] , r'<[\\S\\s]*?src\\s*=[\\S\\s]*?>', '< image >'))\\\n",
    "    .head()\n"
   ]
  },
  {
   "cell_type": "code",
   "execution_count": null,
   "metadata": {},
   "outputs": [],
   "source": [
    "df_t.filter( (length(df_t.value) > 5000)).count()"
   ]
  },
  {
   "cell_type": "code",
   "execution_count": 119,
   "metadata": {},
   "outputs": [
    {
     "name": "stderr",
     "output_type": "stream",
     "text": []
    },
    {
     "data": {
      "text/plain": [
       "[Row(note_id=9993, pos=1, tipo='code', value='# I- converting to continuous data:\\n\\ndef continuous_data(columns): \\n# columns = [\\'pct_black/hispanic\\', \\'pct_free/reduced\\', \\'county_connections_ratio\\',\\n#           \\'pp_total_raw\\']     \\n\\n    d_infos_ = pd.DataFrame(d)\\n\\n    for column in columns :\\n        datas = []\\n        if column == \\'pp_total_raw\\':\\n            for data in d[column]:\\n                data = re.findall(r\"[-+]?\\\\d*\\\\.\\\\d+|\\\\d+\", data)\\n                data[0] = int(float(data[0]))\\n                data[1] = int(float(data[1]))\\n                datas.append(sum(data)/len(data))\\n        else :\\n            for data in d[column]:\\n                data = re.findall(r\"[-+]?\\\\d*\\\\.\\\\d+|\\\\d+\", data)\\n                data[0] = float(data[0])\\n                data[1] = float(data[1])\\n                datas.append(sum(data)/len(data))\\n        d_infos_[column] = datas\\n    return d_infos_\\n\\n# II- Top 10 products with higher engagement_index per district:\\n\\ndef Top_10():\\n    # read all engagement data that have data of \"district_infos\" :\\n    P_infos_n = P_infos[[\\'LP ID\\', \\'Product Name\\', \\'main_fun\\']]\\n    P_infos_n = P_infos_n.rename(columns={\"LP ID\" : \"lp_id\"}, inplace=False)\\n    dfs = {\\'locale\\':[], \\'state\\': [], \\'ID\\':[], \\'Data\\':[]}\\n    for ID, x in zip(d_infos_.district_id, zip(d_infos_.locale, d_infos_.state)) :\\n        dfs[\\'locale\\'].append(x[0])\\n        dfs[\\'state\\'].append(x[1])\\n        dfs[\\'ID\\'].append(ID)\\n\\n        tmp_df = pd.DataFrame(pd.read_csv(path+\\'/engagement_data/\\'+ str(ID)+\\'.csv\\')).dropna()\\n        tmp_df.time = pd.to_datetime(tmp_df.time)    \\n        tmp_df = pd.merge(tmp_df, P_infos_n, on=\\'lp_id\\')    \\n\\n        tmp_df = pd.DataFrame(\\n        tmp_df[[\\'time\\', \\'lp_id\\', \\'engagement_index\\', \\'Product Name\\', \\'main_fun\\']].groupby(\\n            [pd.Grouper(key=\\'time\\', freq=\\'1M\\')]\\n            ).apply(\\n            lambda x: x.nlargest(1, \\'engagement_index\\'))\\n                             )\\n        tmp_df.insert(5,\"locale\" , x[0] )\\n        tmp_df.insert(6,\"state\" , x[1] )\\n\\n        dfs[\\'Data\\'].append(pd.DataFrame(tmp_df).dropna())\\n    \\n    # concatenate all angagement_data :\\n    mlind = [(x, y) for x, y in zip(dfs[\\'locale\\'], dfs[\\'state\\']) ]\\n    # mlind = [x for x in dfs[\\'locale\\'] ]\\n    DF = pd.concat([pd.DataFrame(df) for df in dfs[\\'Data\\']], keys= mlind)\\n    \\n    return DF\\n\\n# III-  Map a color for each values of \\'pp_total_raw\\' from\\n# the districts informations data :\\n\\ndef color_P_T_R_function(x, locale):\\n    if locale == \\'City\\':\\n        data_min = All.loc[\\'City\\'][\\'pp_total_raw\\'].min()\\n        data_max = All.loc[\\'City\\'][\\'pp_total_raw\\'].max()\\n    elif locale == \\'Rural\\':\\n        data_min = All.loc[\\'Rural\\'][\\'pp_total_raw\\'].min()\\n        data_max = All.loc[\\'Rural\\'][\\'pp_total_raw\\'].max()\\n    elif locale == \\'Town\\':\\n        data_min = All.loc[\\'Town\\'][\\'pp_total_raw\\'].min()\\n        data_max = All.loc[\\'Town\\'][\\'pp_total_raw\\'].max()\\n    elif locale == \\'Subur< bytes >Subur< bytes >pp_total_raw\\'].min()\\n        data_max = All.loc[\\'Subur< bytes >pp_total_raw\\'].max()\\n    y = (x-data_min)/(data_max-data_min)   \\n    color_tuple = YlGn(y, bytes=True)[:3]  \\n    return \"#%02x%02x%02x\" % color_tuple         \\n\\n# IV- Geo-Visualisation of the \\'PP_Total_raw\\' :\\n\\ndef PP_Total_raw_map(Locales): # Locales = [\\'City\\', \\'Subur< bytes >Town\\', \\'Rural\\']\\n    # Initialization :\\n    Map = folium.Map([40, -102], zoom_start = 3)\\n    \\n    # Create colormap legend :\\n    Mx = All.pp_total_raw.max()\\n    Mn = All.pp_total_raw.min()\\n    scale = np.linspace(Mn,Mx,3)\\n    colormap = cm.LinearColormap(colors=[\\'yellow\\', \\'green\\'],\\n                                 index=[Mn, Mx],vmin=Mn, vmax=Mx,\\n                                 caption=\\'Per-pupil total expenditure per locale\\')\\n    # add legend to map :\\n    Map.add_child(colormap)\\n\\n    for L in Locales:\\n        \\n        folium.features.GeoJson(name=\"Click for\"+ L ,\\n                                data=All.loc[L],\\n                                style_function=lambda feature: {\\n        \\'fillColor\\': color_P_T_R_function(feature[\\'properties\\'][\\'pp_total_raw\\'],L),\\n                                \\'color\\' : \\'black\\',\\n                                \\'weight\\' : 1,\\n                                \\'fillOpacity\\' : .9},\\n                                  show=True,\\n        tooltip=folium.features.GeoJsonTooltip(\\n        fields=[\\'locale\\',\\'state\\',\\'district_id\\',\\'pct_black/hispanic\\',\\n                \\'pct_free/reduced\\',\\'county_connections_ratio\\',\\n                \\'pp_total_raw\\'],\\n        aliases=[\\'Locale\\',\\'State\\',\\'ID\\', \\'B/H (%)\\', \\'F/R (%)\\', \\'C.C.R\\', \\n                 \\'PP.T.R\\'],\\n        style=(\"background-color: white; color: #333333; font-family: arial; font-size: 12px; padding: 10px;\") \\n        )\\n                               ).add_to(Map)\\n    \\n    # Custome the non-information for the missing states : \\n    \\n    folium.features.GeoJson(\\n    name=\"State with no informations.\",\\n    data=geoJSON_df[~geoJSON_df[\\'state\\'].isin(All[\\'state\\'])],\\n    style_function=lambda feature: {\\n            \\'fillColor\\': \\'#ffffff\\',\\n            \\'color\\' : \\'black\\',\\n            \\'weight\\' : 1},\\n            #\\'dashArray\\' : \\'5, 5\\'},\\n    show=True,\\n    tooltip=folium.features.GeoJsonTooltip(\\n    fields=[\\'state\\'],\\n    aliases=[\" State    No information to display  .\"],\\n    style=(\"background-color: white; color: #333333; font-family: arial; font-size: 12px; padding: 10px;\") \\n            )\\n        ).add_to(Map)\\n    \\n    folium.TileLayer(\\'cartodbdark_matter\\',name=\"dark mode\",control=True).add_to(Map)\\n    folium.TileLayer(\\'cartodbpositron\\',name=\"light mode\",control=True).add_to(Map)\\n\\n    folium.LayerControl(collapsed=True).add_to(Map)\\n    \\n    return Map\\n\\n# V- chart for Top products visualusation:\\n\\ndef Top_Visual():\\n    date = [datetime.datetime(int(str(x).split(\\' \\')[0].split(\\'-\\')[0]),\\n                          int(str(x).split(\\' \\')[0].split(\\'-\\')[1]),\\n                          int(str(x).split(\\' \\')[0].split(\\'-\\')[2])).strftime(\"%b %Y\")\\n                          for x in pd.date_range(start=\\'2020-01-01\\', end=\\'2020-12-31\\', freq= \"M\")]\\n\\n    fig = go.Figure()\\n\\n    Locale = [\\'City\\', \\'Town\\', \\'Subur< bytes >Rural\\']   \\n    colors = [\\'firebrick\\', \\'steelblue\\', \\'indianred\\', \\'lightsalmon\\']\\n    for locale, c in zip(Locale, colors) :\\n\\n        Data = pd.DataFrame(Top_districts.loc[locale].groupby([pd.Grouper(key=\\'time\\', freq=\\'1M\\')],\\n                                            as_index = False).apply(\\n            lambda x: x.nlargest(1, \\'engagement_index\\'))\\n                        )    \\n        Data[\\'main_fun\\'] = Data[\\'main_fun\\'].str.replace(\\'LC\\',\\'Learning & Curriculum\\')\\n        Data[\\'main_fun\\'] = Data[\\'main_fun\\'].str.replace(\\'CM\\',\\'Classroom Management\\')\\n        Data[\\'main_fun\\'] = Data[\\'main_fun\\'].str.replace(\\'SDO\\',\\'School & District Operations\\')\\n\\n        fig.add_trace(go.Bar(\\n            x=date,\\n            y=Data[\"engagement_index\"],\\n            name=locale,\\n            marker_color=c,\\n            hovertext=\" Product:  \" + Data[\"Product Name\"] +\" . \"\\n            +\" State:  \"+ Data[\"state\"] + \" . \"\\n            +\" Essential Function:  \"+ Data[\"main_fun\"] + \" .\"\\n        ))\\n\\n    fig.update_layout(\\n        title=f\\'Total page-load events per one thousand students per product\\',\\n        xaxis_tickfont_size=14,\\n        xaxis_tickangle=-45,\\n        yaxis=dict(\\n            title=\\'Engagement Index\\',\\n            titlefont_size=16,\\n            tickfont_size=14,\\n        ),\\n        barmode=\\'group\\'\\n    )\\n\\n    return fig.show()\\n\\n# In order to create features:\\n\\ndef Create_feature(kind):\\n    \\n    # Beging Creating Features\\n    TmpFeature = []\\n    for index,row in Group_df.iterrows() :\\n        long = Lon_lat[Lon_lat[\\'state\\'] == index[1]][\\'long\\'].values[0]\\n        lat = Lon_lat[Lon_lat[\\'state\\'] == index[1]][\\'lat\\'].values[0]\\n        radius_data = \\'radius/\\' + kind\\n        fill_color_data = \\'fill color/\\' + kind\\n        TmpFeature.append(\\n            Feature(\\n                geometry=Point((long,lat)),\\n                properties={\\n                    \\'time\\': pd.to_datetime(index[0]).__str__(),\\n                    \\'style\\': {\\'color\\' : \\'\\'},\\n                    \\'icon\\': \\'circle\\',\\n                    \\'iconstyle\\':{\\n                            \\'fillColor\\': row[fill_color_data],\\n                            \\'fillOpacity\\': 0.8,\\n                            \\'stroke\\': \\'false\\',\\n                            \\'radius\\': row[radius_data]\\n                                        }\\n                            }\\n            ))\\n\\n    return TmpFeature\\n\\n# VII- Dual map of covud\\'s cases & deaths:\\n\\ndef Dual_map(cases = \\'cases\\', deaths = \\'deaths\\'):\\n    dualmap = DualMap(location = [40,-102],\\n                      zoom_start = 3,\\n                      layout = \\'horizontal\\'\\n                     )\\n\\n    TimestampedGeoJson({\\n                            \\'type\\': \\'FeatureCollection\\',\\n                            \\'features\\': Create_feature(deaths),\\n                            },\\n                      period = \\'P1M\\',                  \\n                      auto_play = True).add_to(dualmap.m1)\\n\\n    folium.features.GeoJson(\\n        name=state_geo,\\n        data=state_geo,\\n        show=True,\\n        tooltip=folium.features.GeoJsonTooltip(\\n        fields=[\\'state\\'],\\n        aliases=[\\'State\\'],    \\n        style=(\"background-color: white; color: #333333; font-family: arial; font-size: 12px; padding: 10px;\") \\n                )\\n            ).add_to(dualmap.m1)\\n\\n    folium.plugins.Fullscreen(position=\\'topright\\', \\n                              title=\\'Full Screen of Deaths Data\\', \\n                              title_cancel=\\'Exit Full Screen of Deaths Data\\', \\n                              force_separate_button=False).add_to(dualmap.m1)\\n\\n    TimestampedGeoJson({\\n                            \\'type\\': \\'FeatureCollection\\',\\n                            \\'features\\': Create_feature(cases),\\n                            },\\n                      period = \\'P1M\\',                  \\n                      auto_play = True).add_to(dualmap.m2)\\n\\n    folium.features.GeoJson(\\n        name=state_geo,\\n        data=state_geo,\\n        show=True,\\n        tooltip=folium.features.GeoJsonTooltip(\\n        fields=[\\'state\\'],\\n        aliases=[\\'State\\'],    \\n        style=(\"background-color: white; color: #333333; font-family: arial; font-size: 12px; padding: 10px;\") \\n                )\\n            ).add_to(dualmap.m2)\\n\\n    folium.plugins.Fullscreen(position=\\'topright\\', \\n                              title=\\'Full Screen of Cases Data\\', \\n                              title_cancel=\\'Exit Full Screen of Deaths Data\\', \\n                              force_separate_button=False).add_to(dualmap.m2)\\n\\n\\n    return dualmap\\n\\n# VIII - Producsts and Engagement  Index \\ndef Prod_vs_engagement():\\n    fig = go.Figure()\\n    for p in Data_prod[\\'Product Name\\'].unique() :\\n\\n        Data = pd.DataFrame(Data_prod[Data_prod[\\'Product Name\\'] == p])\\n\\n        Date = [datetime.datetime(int(str(x).split(\\' \\')[0].split(\\'-\\')[0]),\\n                              int(str(x).split(\\' \\')[0].split(\\'-\\')[1]),\\n                              int(str(x).split(\\' \\')[0].split(\\'-\\')[2])).strftime(\"%b %Y\")\\n                              for x in Data.time]\\n\\n        Data[\\'main_fun\\'] = Data[\\'main_fun\\'].str.replace(\\'LC\\',\\'Learning & Curriculum\\')\\n        Data[\\'main_fun\\'] = Data[\\'main_fun\\'].str.replace(\\'CM\\',\\'Classroom Management\\')\\n        Data[\\'main_fun\\'] = Data[\\'main_fun\\'].str.replace(\\'SDO\\',\\'School & District Operations\\')\\n\\n        fig.add_trace(go.Bar(\\n            x=Date, \\n            y=Data[\\'engagement_index\\'],\\n            name = p,\\n            hovertext=\\n            \" State:  \" + Data[\\'state\\'] +\" . \"\\n            + \" Essential Function:  \" + Data[\\'main_fun\\'] +\" . \",\\n            width = 0.2\\n                            )\\n                     )\\n    fig.update_layout(\\n        title=\\'Total page-load events per one thousand students per product   during 2020\\',\\n        xaxis_tickfont_size=14,\\n        xaxis_tickangle=-45,\\n        yaxis=dict(\\n            title=\\'Engagement Index\\',\\n            titlefont_size=16,\\n            tickfont_size=14,\\n        ),\\n        barmode=\\'group\\',\\n        bargap = 0.2\\n    )    \\n    return fig.show()'),\n",
       " Row(note_id=9996, pos=9, tipo='code', value='\\n{\\n   \"schemaVersion\": 2,\\n   \"mediaType\": \"application/vnd.docker.distribution.manifest.v2+json\",\\n   \"config\": {\\n      \"mediaType\": \"application/vnd.docker.container.image.v1+json\",\\n      \"size\": 22869,\\n      \"digest\": \"sha256:544e8081ed30d9dc1fb61f0203bd09742e4c044cac9488feeda117427957f672\"\\n   },\\n   \"layers\": [\\n      {\\n         \"mediaType\": \"application/vnd.docker.image.rootfs.diff.tar.gzip\",\\n         \"size\": 50382957,\\n         \"digest\": \"sha256:7e2b2a5af8f65687add6d864d5841067e23bd435eb1a051be6fe1ea2384946b4\"\\n      },\\n      {\\n         \"mediaType\": \"application/vnd.docker.image.rootfs.diff.tar.gzip\",\\n         \"size\": 222909892,\\n         \"digest\": \"sha256:59c89b5f9b0c6d94c77d4c3a42986d420aaa7575ac65fcd2c3f5968b3726abfc\"\\n      },\\n      {\\n         \"mediaType\": \"application/vnd.docker.image.rootfs.diff.tar.gzip\",\\n         \"size\": 195204532,\\n         \"digest\": \"sha256:4017849f9f85133e68a4125e9679775f8e46a17dcdb8c2a52bbe72d0198f5e68\"\\n      },\\n      {\\n         \"mediaType\": \"application/vnd.docker.image.rootfs.diff.tar.gzip\",\\n         \"size\": 1522,\\n         \"digest\": \"sha256:c8b29d62979a416da925e526364a332b13f8d5f43804ae98964de2a60d47c17a\"\\n      },\\n      {\\n         \"mediaType\": \"application/vnd.docker.image.rootfs.diff.tar.gzip\",\\n         \"size\": 717,\\n         \"digest\": \"sha256:12004028a6a740ac35e69f489093b860968cc37b9668f65b1e2f61fd4c4ad25c\"\\n      },\\n      {\\n         \"mediaType\": \"application/vnd.docker.image.rootfs.diff.tar.gzip\",\\n         \"size\": 247,\\n         \"digest\": \"sha256:3f09b9a53dfb03fd34e35d43694c2d38656f7431efce0e6647c47efb5f7b3137\"\\n      },\\n      {\\n         \"mediaType\": \"application/vnd.docker.image.rootfs.diff.tar.gzip\",\\n         \"size\": 408,\\n         \"digest\": \"sha256:03ed58116b0cb733cc552dc89ef5ea122b6c5cf39ec467f6ad671dc0ba35db0c\"\\n      },\\n      {\\n         \"mediaType\": \"application/vnd.docker.image.rootfs.diff.tar.gzip\",\\n         \"size\": 331594702,\\n         \"digest\": \"sha256:7844554d9ef75bb3f1d224e166ed12561e78add339448c52a8e5679943b229f1\"\\n      },\\n      {\\n         \"mediaType\": \"application/vnd.docker.image.rootfs.diff.tar.gzip\",\\n         \"size\": 112664904,\\n         \"digest\": \"sha256:f1dc3596458cc80f32c2e7119ff5e4cf5714cf0f78aea5e1c0e15837c7e59c07\"\\n      },\\n      {\\n         \"mediaType\": \"application/vnd.docker.image.rootfs.diff.tar.gzip\",\\n         \"size\": 413,\\n         \"digest\": \"sha256:956baf18c9b14836113107d2ff2f0402b4d2019eb0f2f3c14efbd13901a01da8\"\\n      },\\n      {\\n         \"mediaType\": \"application/vnd.docker.image.rootfs.diff.tar.gzip\",\\n         \"size\": 5494,\\n         \"digest\": \"sha256:bd3207116dc18cbf7caea7b3938f76d796a4ea2976334cbb891f8bd47134e869\"\\n      },\\n      {\\n         \"mediaType\": \"application/vnd.docker.image.rootfs.diff.tar.gzip\",\\n         \"size\": 1839,\\n         \"digest\": \"sha256:6ae85f598682e81358f2312fb59d5dfba3211a62f18beae32f79b8452635375< bytes >mediaType\": \"application/vnd.docker.image.rootfs.diff.tar.gzip\",\\n         \"size\": 2447018295,\\n         \"digest\": \"sha256:9130dcc5376a37ff1f55ce8782176f810c740728d536cf5be8a8182257f0bc06\"\\n      },\\n      {\\n         \"mediaType\": \"application/vnd.docker.image.rootfs.diff.tar.gzip\",\\n         \"size\": 467,\\n         \"digest\": \"sha256:4055b5b31384adaf62aa1e8a5ae32c4f9caff7928d2bed7e3ee18f6dc01113a0\"\\n      },\\n      {\\n         \"mediaType\": \"application/vnd.docker.image.rootfs.diff.tar.gzip\",\\n         \"size\": 75218657,\\n         \"digest\": \"sha256:a668651b432a08004ec11e226c64ac93e8dd2ed634eaa2ac7ffa01606095dea7\"\\n      },\\n      {\\n         \"mediaType\": \"application/vnd.docker.image.rootfs.diff.tar.gzip\",\\n         \"size\": 165682075,\\n         \"digest\": \"sha256:dab43881d8fb6ac72e1a9b4885ba187c8ded078648cb03d9dc163097ca04430e\"\\n      },\\n      {\\n         \"mediaType\": \"application/vnd.docker.image.rootfs.diff.tar.gzip\",\\n         \"size\": 209796818,\\n         \"digest\": \"sha256:0d166dce96d949af0ed75d180eae6e939f584526047b92b13da96269cc5fcd45\"\\n      },\\n      {\\n         \"mediaType\": \"application/vnd.docker.image.rootfs.diff.tar.gzip\",\\n         \"size\": 356355573,\\n         \"digest\": \"sha256:c31249c36c11fd3017dddb6e5b69a9bbdd7508aeff8a8b501283a4fc921c56f7\"\\n      },\\n      {\\n         \"mediaType\": \"application/vnd.docker.image.rootfs.diff.tar.gzip\",\\n         \"size\": 975788160,\\n         \"digest\": \"sha256:817aedeb45dea437de094eee45a5d43c565fce8cb82b25e4a6215fc9b4df1994\"\\n      },\\n      {\\n         \"mediaType\": \"application/vnd.docker.image.rootfs.diff.tar.gzip\",\\n         \"size\": 1544,\\n         \"digest\": \"sha256:ac64669d5819066ba1d92a7e62abce4dab782a8593bde2024e3f95be91fa8563\"\\n      },\\n      {\\n         \"mediaType\": \"application/vnd.docker.image.rootfs.diff.tar.gzip\",\\n         \"size\": 902,\\n         \"digest\": \"sha256:014c20c3e8d7837f3b716b5a7effa65febbe1faa4fdeeea0dc563f4b13d9b84a\"\\n      },\\n      {\\n         \"mediaType\": \"application/vnd.docker.image.rootfs.diff.tar.gzip\",\\n         \"size\": 207,\\n         \"digest\": \"sha256:0b4224ff3dae732585ceea36367958d49f51102518bf628eb55d60d7f4a2085a\"\\n      },\\n      {\\n         \"mediaType\": \"application/vnd.docker.image.rootfs.diff.tar.gzip\",\\n         \"size\": 372,\\n         \"digest\": \"sha256:4a8f41188c3cf1da65508940a25dd09881e87adacb1e60d0844b7f86f9e15713\"\\n      },\\n      {\\n         \"mediaType\": \"application/vnd.docker.image.rootfs.diff.tar.gzip\",\\n         \"size\": 972,\\n         \"digest\": \"sha256:8f8f384875c374e33ec7631efc1a527027aab4c0dff81dce7d1b19103a2b0c79\"\\n      },\\n      {\\n         \"mediaType\": \"application/vnd.docker.image.rootfs.diff.tar.gzip\",\\n         \"size\": 458,\\n         \"digest\": \"sha256:bb3e64b44abdc3b0d6396b18c187cc0dfe1741a174e93393e9776020c25d8fc2\"\\n      },\\n      {\\n         \"mediaType\": \"application/vnd.docker.image.rootfs.diff.tar.gzip\",\\n         \"size\": 528436201,\\n         \"digest\": \"sha256:a29c468d2ddf2c1be7a4356fd8b70ddf8b2817b2ad26f3011c194bd2521ebc1d\"\\n      },\\n      {\\n         \"mediaType\": \"application/vnd.docker.image.rootfs.diff.tar.gzip\",\\n         \"size\": 76614148,\\n         \"digest\": \"sha256:47e01ab28eb7e23d4b257f362b34bfdba6510b83c6e080d64d797617bc1e696a\"\\n      },\\n      {\\n         \"mediaType\": \"application/vnd.docker.image.rootfs.diff.tar.gzip\",\\n         \"size\": 294373,\\n         \"digest\": \"sha256:a2202eec93ba50fbb865c58f459b179057607fb0afc80f807f053a40b6fe9f81\"\\n      },\\n      {\\n         \"mediaType\": \"application/vnd.docker.image.rootfs.diff.tar.gzip\",\\n         \"size\": 104190808,\\n         \"digest\": \"sha256:26bfb821987de0d0ec5b91da6895b9fe9a8738d48cd0b0af1f95763e8c67229f\"\\n      },\\n      {\\n         \"mediaType\": \"application/vnd.docker.image.rootfs.diff.tar.gzip\",\\n         \"size\": 684543716,\\n         \"digest\": \"sha256:211b472bdc79c5725b3889c747116c70b7a2aa33667f58307a75c019f5f1f7d9\"\\n      },\\n      {\\n         \"mediaType\": \"application/vnd.docker.image.rootfs.diff.tar.gzip\",\\n         \"size\": 212,\\n         \"digest\": \"sha256:9e05ecb0d9efcd65f675ec5463ca07780a5c3e78bee637c02783d2d6c1b70a2a\"\\n      }\\n   ]\\n}\\n'),\n",
       " Row(note_id=9996, pos=10, tipo='code', value='\\n{\\n   \"schemaVersion\": 2,\\n   \"mediaType\": \"application/vnd.docker.distribution.manifest.v2+json\",\\n   \"config\": {\\n      \"mediaType\": \"application/vnd.docker.container.image.v1+json\",\\n      \"size\": 22919,\\n      \"digest\": \"sha256:e0dda0c528b7c846ad1a9fe316de11aeff89bdbae07f32a5efb11120a3e55ccd\"\\n   },\\n   \"layers\": [\\n      {\\n         \"mediaType\": \"application/vnd.docker.image.rootfs.diff.tar.gzip\",\\n         \"size\": 50382957,\\n         \"digest\": \"sha256:7e2b2a5af8f65687add6d864d5841067e23bd435eb1a051be6fe1ea2384946b4\"\\n      },\\n      {\\n         \"mediaType\": \"application/vnd.docker.image.rootfs.diff.tar.gzip\",\\n         \"size\": 222909892,\\n         \"digest\": \"sha256:59c89b5f9b0c6d94c77d4c3a42986d420aaa7575ac65fcd2c3f5968b3726abfc\"\\n      },\\n      {\\n         \"mediaType\": \"application/vnd.docker.image.rootfs.diff.tar.gzip\",\\n         \"size\": 195204532,\\n         \"digest\": \"sha256:4017849f9f85133e68a4125e9679775f8e46a17dcdb8c2a52bbe72d0198f5e68\"\\n      },\\n      {\\n         \"mediaType\": \"application/vnd.docker.image.rootfs.diff.tar.gzip\",\\n         \"size\": 1522,\\n         \"digest\": \"sha256:c8b29d62979a416da925e526364a332b13f8d5f43804ae98964de2a60d47c17a\"\\n      },\\n      {\\n         \"mediaType\": \"application/vnd.docker.image.rootfs.diff.tar.gzip\",\\n         \"size\": 717,\\n         \"digest\": \"sha256:12004028a6a740ac35e69f489093b860968cc37b9668f65b1e2f61fd4c4ad25c\"\\n      },\\n      {\\n         \"mediaType\": \"application/vnd.docker.image.rootfs.diff.tar.gzip\",\\n         \"size\": 247,\\n         \"digest\": \"sha256:3f09b9a53dfb03fd34e35d43694c2d38656f7431efce0e6647c47efb5f7b3137\"\\n      },\\n      {\\n         \"mediaType\": \"application/vnd.docker.image.rootfs.diff.tar.gzip\",\\n         \"size\": 408,\\n         \"digest\": \"sha256:03ed58116b0cb733cc552dc89ef5ea122b6c5cf39ec467f6ad671dc0ba35db0c\"\\n      },\\n      {\\n         \"mediaType\": \"application/vnd.docker.image.rootfs.diff.tar.gzip\",\\n         \"size\": 331594702,\\n         \"digest\": \"sha256:7844554d9ef75bb3f1d224e166ed12561e78add339448c52a8e5679943b229f1\"\\n      },\\n      {\\n         \"mediaType\": \"application/vnd.docker.image.rootfs.diff.tar.gzip\",\\n         \"size\": 112665282,\\n         \"digest\": \"sha256:f15956f7439a8f32fc517e733c3af3104f414f6fccaf6eb901bcb1e233d4f9bf\"\\n      },\\n      {\\n         \"mediaType\": \"application/vnd.docker.image.rootfs.diff.tar.gzip\",\\n         \"size\": 421,\\n         \"digest\": \"sha256:04daa549c9f7ce91a4b748f66094533c5b54256c7de57023d09e76728bc55ef1\"\\n      },\\n      {\\n         \"mediaType\": \"application/vnd.docker.image.rootfs.diff.tar.gzip\",\\n         \"size\": 5494,\\n         \"digest\": \"sha256:ce39292f31e2ce9cd52a97a59962ac74127458ba3cb69a94373cf6aa4116f0c4\"\\n      },\\n      {\\n         \"mediaType\": \"application/vnd.docker.image.rootfs.diff.tar.gzip\",\\n         \"size\": 1838,\\n         \"digest\": \"sha256:3874427bf61ee09a3145aa945f0036f15da21399e24b84cd84c067e930385979\"\\n      },\\n      {\\n         \"mediaType\": \"application/vnd.docker.image.rootfs.diff.tar.gzip\",\\n         \"size\": 2451236145,\\n         \"digest\": \"sha256:97b6e7362f6a297643e996bfae1fe57f228e0c47ed322cd8d0f440c0d1e7da3f\"\\n      },\\n      {\\n         \"mediaType\": \"application/vnd.docker.image.rootfs.diff.tar.gzip\",\\n         \"size\": 468,\\n         \"digest\": \"sha256:5bc4129a64dc88b9963093f616cb5379206ea3e846b7cea67f9142d68b034e39\"\\n      },\\n      {\\n         \"mediaType\": \"application/vnd.docker.image.rootfs.diff.tar.gzip\",\\n         \"size\": 75218781,\\n         \"digest\": \"sha256:7547bbd42f0a313b4c9f02b490eafc2ebb58447144e4336f7557ed54300d0f06\"\\n      },\\n      {\\n         \"mediaType\": \"application/vnd.docker.image.rootfs.diff.tar.gzip\",\\n         \"size\": 165683068,\\n         \"digest\": \"sha256:d6d8e4ad22a25bd9f419cd7e654f0d86c3cec95f13ce0af79fca1332a65e1c42\"\\n      },\\n      {\\n         \"mediaType\": \"application/vnd.docker.image.rootfs.diff.tar.gzip\",\\n         \"size\": 209256259,\\n         \"digest\": \"sha256:011f6e7149f1429ecf5427957e27c2cdb14e4f49267f529f0078c08b85db3e49\"\\n      },\\n      {\\n         \"mediaType\": \"application/vnd.docker.image.rootfs.diff.tar.gzip\",\\n         \"size\": 356432441,\\n         \"digest\": \"sha256:3c257c57cde2630c7d008673344b11d367d7ac2e815ea381d43da665b11a33ac\"\\n      },\\n      {\\n         \"mediaType\": \"application/vnd.docker.image.rootfs.diff.tar.gzip\",\\n         \"size\": 975781677,\\n         \"digest\": \"sha256:4660e6449f134a016ecfc33c63503d63d29f221a52416c8f6b49c1072af49f66\"\\n      },\\n      {\\n         \"mediaType\": \"application/vnd.docker.image.rootfs.diff.tar.gzip\",\\n         \"size\": 1545,\\n         \"digest\": \"sha256:fa3e772df1f71d1992a4dd1a8bc0a3c21be024b379b934f2fdf8c5793f0a9187\"\\n      },\\n      {\\n         \"mediaType\": \"application/vnd.docker.image.rootfs.diff.tar.gzip\",\\n         \"size\": 905,\\n         \"digest\": \"sha256:12551290e2a447b322755484dafdba1d976252a7d0b33248802fa64fce3f71a2\"\\n      },\\n      {\\n         \"mediaType\": \"application/vnd.docker.image.rootfs.diff.tar.gzip\",\\n         \"size\": 208,\\n         \"digest\": \"sha256:536ada87436e5c7725482303241b35a7376d00009fe2565bda75acfa4bc89dd6\"\\n      },\\n      {\\n         \"mediaType\": \"application/vnd.docker.image.rootfs.diff.tar.gzip\",\\n         \"size\": 372,\\n         \"digest\": \"sha256:b7ddb78236b9692ef01e16b35dbbe60ccc6b42cc1c5fee96509843af346d2669\"\\n      },\\n      {\\n         \"mediaType\": \"application/vnd.docker.image.rootfs.diff.tar.gzip\",\\n         \"size\": 972,\\n         \"digest\": \"sha256:1c45f7a98c9f3768a0b5ed9dd77bbeb1cb7da04be9984e8ef7252b50d01f24d3\"\\n      },\\n      {\\n         \"mediaType\": \"application/vnd.docker.image.rootfs.diff.tar.gzip\",\\n         \"size\": 458,\\n         \"digest\": \"sha256:6038025defaac44414de10f156ce4689d253166a344670d5a837f837f4b927c1\"\\n      },\\n      {\\n         \"mediaType\": \"application/vnd.docker.image.rootfs.diff.tar.gzip\",\\n         \"size\": 532044270,\\n         \"digest\": \"sha256:2920d7aee412b4a2892e909fd0119de36d3e835a134cca3c3db035ecd1a81da1\"\\n      },\\n      {\\n         \"mediaType\": \"application/vnd.docker.image.rootfs.diff.tar.gzip\",\\n         \"size\": 74333342,\\n         \"digest\": \"sha256:6e70c81597fda37fba0af67f986b835420b192885865d9bd87abed01ad44b4a2\"\\n      },\\n      {\\n         \"mediaType\": \"application/vnd.docker.image.rootfs.diff.tar.gzip\",\\n         \"size\": 292263,\\n         \"digest\": \"sha256:26f5f4c71cf7e877a0afac228e743ea849197aa423a36fcfda7051c8a6f0da82\"\\n      },\\n      {\\n         \"mediaType\": \"application/vnd.docker.image.rootfs.diff.tar.gzip\",\\n         \"size\": 104190576,\\n         \"digest\": \"sha256:91a9ab9e6ab2972ed7d61aedd2976d7efee1521d1055aa0bc0a8ffa747523d77\"\\n      },\\n      {\\n         \"mediaType\": \"application/vnd.docker.image.rootfs.diff.tar.gzip\",\\n         \"size\": 684547685,\\n         \"digest\": \"sha256:8087bcd5f1ffed27265ff1c4d1e10fff2ec69bbc35bc7ff76f79deb336bb881d\"\\n      },\\n      {\\n         \"mediaType\": \"application/vnd.docker.image.rootfs.diff.tar.gzip\",\\n         \"size\": 213,\\n         \"digest\": \"sha256:e4ca55700431faa1342922d093927a79b52db7d817ee4b09fb47e6d9dc22a254\"\\n      }\\n   ]\\n}\\n'),\n",
       " Row(note_id=9998, pos=38, tipo='code', value='js_string=\"\"\"\\n var m = [20, 120, 20, 120],\\n    w = 1280 - m[1] - m[3],\\n    h = 800 - m[0] - m[2],\\n    i = 0,\\n    rect_width = 80,\\n    rect_height = 20,\\n    max_link_width = 20,\\n    min_link_width = 1.5,\\n    char_to_pxl = 6,\\n    root;\\n// Add datasets dropdown\\nd3.select(\"#datasets\")\\n    .on(\"change\", function() {\\n      if (this.value !== \\'-\\') {\\n        d3.json(this.value + \".json\", load_dataset);\\n      }\\n    })\\n  .selectAll(\"option\")\\n    .data([\\n      \"-\",\\n      \"output\"\\n    ])\\n  .enter().append(\"option\")\\n    .attr(\"value\", String)\\n    .text(String);\\nvar tree = d3.layout.tree()\\n    .size([h, w]);\\nvar diagonal = d3.svg.diagonal()\\n    .projection(function(d) { return [d.x, d.y]; });\\nvar vis = d3.select(\"#body\").append(\"svg:svg\")\\n    .attr(\"width\", w + m[1] + m[3])\\n    .attr(\"height\", h + m[0] + m[2] + 1000)\\n  .append(\"svg:g\")\\n    .attr(\"transform\", \"translate(\" + m[3] + \",\" + m[0] + \")\");\\n// global scale for link width\\nvar link_stoke_scale = d3.scale.linear();\\nvar color_map = d3.scale.category10();\\n// stroke style of link - either color or function\\nvar stroke_callback = \"#ccc\";\\nfunction load_dataset(json) {\\n  root = json;\\n  root.x0 = 0;\\n  root.y0 = 0;\\n  var n_samples = root.samples;\\n  var n_labels = root.value.length;\\n  if (n_labels >= 2) {\\n    stroke_callback = mix_colors;\\n  } else if (n_labels === 1) {\\n    stroke_callback = mean_interpolation(root);\\n  }\\n  link_stoke_scale = d3.scale.linear()\\n                             .domain([0, n_samples])\\n                             .range([min_link_width, max_link_width]);\\n  function toggleAll(d) {\\n    if (d && d.children) {\\n      d.children.forEach(toggleAll);\\n      toggle(d);\\n    }\\n  }\\n  // Initialize the display to show a few nodes.\\n  root.children.forEach(toggleAll);\\n  update(root);\\n}\\nfunction update(source) {\\n  var duration = d3.event && d3.event.altKey ? 5000 : 500;\\n  // Compute the new tree layout.\\n  var nodes = tree.nodes(root).reverse();\\n  // Normalize for fixed-depth.\\n  nodes.forEach(function(d) { d.y = d.depth * 180; });\\n  // Update the nodes…\\n  var node = vis.selectAll(\"g.node\")\\n      .data(nodes, function(d) { return d.id || (d.id = ++i); });\\n  // Enter any new nodes at the parent\\'s previous position.\\n  var nodeEnter = node.enter().append(\"svg:g\")\\n      .attr(\"class\", \"node\")\\n      .attr(\"transform\", function(d) { return \"translate(\" + source.x0 + \",\" + source.y0 + \")\"; })\\n      .on(\"click\", function(d) { toggle(d); update(d); });\\n  nodeEnter.append(\"svg:rect\")\\n      .attr(\"x\", function(d) {\\n        var label = node_label(d);\\n        var text_len = label.length * char_to_pxl;\\n        var width = d3.max([rect_width, text_len])\\n        return -width / 2;\\n      })\\n      .attr(\"width\", 1e-6)\\n      .attr(\"height\", 1e-6)\\n      .attr(\"rx\", function(d) { return d.type === \"split\" ? 2 : 0;})\\n      .attr(\"ry\", function(d) { return d.type === \"split\" ? 2 : 0;})\\n      .style(\"stroke\", function(d) { return d.type === \"split\" ? \"steelblue\" : \"olivedra< bytes >fill\", function(d) { return d._children ? \"lightsteelblue\" : \"#fff\"; });\\n  nodeEnter.append(\"svg:text\")\\n      .attr(\"dy\", \"12px\")\\n      .attr(\"text-anchor\", \"middle\")\\n      .text(node_label)\\n      .style(\"fill-opacity\", 1e-6);\\n  // Transition nodes to their new position.\\n  var nodeUpdate = node.transition()\\n      .duration(duration)\\n      .attr(\"transform\", function(d) { return \"translate(\" + d.x + \",\" + d.y + \")\"; });\\n  nodeUpdate.select(\"rect\")\\n      .attr(\"width\", function(d) {\\n        var label = node_label(d);\\n        var text_len = label.length * char_to_pxl;\\n        var width = d3.max([rect_width, text_len])\\n        return width;\\n      })\\n      .attr(\"height\", rect_height)\\n      .style(\"fill\", function(d) { return d._children ? \"lightsteelblue\" : \"#fff\"; });\\n  nodeUpdate.select(\"text\")\\n      .style(\"fill-opacity\", 1);\\n  // Transition exiting nodes to the parent\\'s new position.\\n  var nodeExit = node.exit().transition()\\n      .duration(duration)\\n      .attr(\"transform\", function(d) { return \"translate(\" + source.x + \",\" + source.y + \")\"; })\\n      .remove();\\n  nodeExit.select(\"rect\")\\n      .attr(\"width\", 1e-6)\\n      .attr(\"height\", 1e-6);\\n  nodeExit.select(\"text\")\\n      .style(\"fill-opacity\", 1e-6);\\n  // Update the links\\n  var link = vis.selectAll(\"path.link\")\\n      .data(tree.links(nodes), function(d) { return d.target.id; });\\n  // Enter any new links at the parent\\'s previous position.\\n  link.enter().insert(\"svg:path\", \"g\")\\n      .attr(\"class\", \"link\")\\n      .attr(\"d\", function(d) {\\n        var o = {x: source.x0, y: source.y0};\\n        return diagonal({source: o, target: o});\\n      })\\n      .transition()\\n      .duration(duration)\\n      .attr(\"d\", diagonal)\\n      .style(\"stroke-width\", function(d) {return link_stoke_scale(d.target.samples);})\\n      .style(\"stroke\", stroke_callback);\\n  // Transition links to their new position.\\n  link.transition()\\n      .duration(duration)\\n      .attr(\"d\", diagonal)\\n      .style(\"stroke-width\", function(d) {return link_stoke_scale(d.target.samples);})\\n      .style(\"stroke\", stroke_callback);\\n  // Transition exiting nodes to the parent\\'s new position.\\n  link.exit().transition()\\n      .duration(duration)\\n      .attr(\"d\", function(d) {\\n        var o = {x: source.x, y: source.y};\\n        return diagonal({source: o, target: o});\\n      })\\n      .remove();\\n  // Stash the old positions for transition.\\n  nodes.forEach(function(d) {\\n    d.x0 = d.x;\\n    d.y0 = d.y;\\n  });\\n}\\n// Toggle children.\\nfunction toggle(d) {\\n  if (d.children) {\\n    d._children = d.children;\\n    d.children = null;\\n  } else {\\n    d.children = d._children;\\n    d._children = null;\\n  }\\n}\\n// Node labels\\nfunction node_label(d) {\\n  if (d.type === \"leaf\") {\\n    // leaf\\n    var formatter = d3.format(\".2f\");\\n    var vals = [];\\n    d.value.forEach(function(v) {\\n        vals.push(formatter(v));\\n    });\\n    return \"[\" + vals.join(\", \") + \"]\";\\n  } else {\\n    // split node\\n    return d.label;\\n  }\\n}\\n/**\\n * Mixes colors according to the relative frequency of classes.\\n */\\nfunction mix_colors(d) {\\n  var value = d.target.value;\\n  var sum = d3.sum(value);\\n  var col = d3.rgb(0, 0, 0);\\n  value.forEach(function(val, i) {\\n    var label_color = d3.rgb(color_map(i));\\n    var mix_coef = val / sum;\\n    col.r += mix_coef * label_color.r;\\n    col.g += mix_coef * label_color.g;\\n    col.b += mix_coef * label_color.b;\\n  });\\n  return col;\\n}\\n/**\\n * A linear interpolator for value[0].\\n *\\n * Useful for link coloring in regression trees.\\n */\\nfunction mean_interpolation(root) {\\n  var max = 1e-9,\\n      min = 1e9;\\n  function recurse(node) {\\n    if (node.value[0] > max) {\\n      max = node.value[0];\\n    }\\n    if (node.value[0] < min) {\\n      min = node.value[0];\\n    }\\n    if (node.children) {\\n      node.children.forEach(recurse);\\n    }\\n  }\\n  recurse(root);\\n  var scale = d3.scale.linear().domain([min, max])\\n                               .range([\"#2166AC\",\"#B2182B\"]);\\n  function interpolator(d) {\\n    return scale(d.target.value[0]);\\n  }\\n  return interpolator;\\n}\\n \"\"\"'),\n",
       " Row(note_id=9998, pos=53, tipo='markdown', value='# Getting to know the data\\n\\n## pH\\npH is a measurement of electrically charged particles in a substance. It indicates how acidic or alkaline (basic) that substance is. The pH scale ranges from 0 to 14\\n\\nThe WHO guidelines for Drinking water is between 6.5 and 8.5\\nOutside these limits many halmful metals may become soluble.\\n\\n## Hardness\\nHardness is the amount of dissolved calcium and magnesium in the water.\\nNot of health concern at levels found in\\ndrinking-water, however can remove other metals that maybe be harmful.\\n\\nThe taste threshold for the calcium ion is in the range of 100–300 mg/l. the taste threshold for magnesium is probably lower than that for calcium. In\\nsome instances, consumers tolerate water hardness in excess of 500 mg/l\\n\\n## Solids\\nTotal dissolved solids (TDS) comprise inorganic salts (principally calcium, magnesium, potassium, sodium, bicarbonates, chlorides and sulfates) and small amounts of organic matter that are dissolved in water\\n\\nThe palatability of water with a total dissolved solids (TDS) level of less than about 600 mg/l is generally considered to be good; drinking-water becomes significantly and increasingly unpalatable at TDS levels greater than about 1000 mg/l. \\n\\nDesirable limit for TDS is 500 mg/l and maximum limit is 1000 mg/l which prescribed for drinking purpose.\\n\\n## Chloramines\\nMonochloramine, dichloramines and trichloramines are considered by-products of drinking-water chlorination. Chloramines, such as monochloramine, dichloramine and trichloramine (nitrogen trichloride), are generated from the reaction of chlorine with ammonia. Among chloramines, monochloramine is the only useful chlorine disinfectant, and chloramination systems are operated to minimize the formation of dichloramine and trichloramine. Higher chloramines, particularly trichloramine, are likely to give rise to taste and odour complaints, except at very low concentrations.\\n\\nFor monochloramine, no odour or taste was detected at concentrations between\\n0.5 and 1.5 mg/l. For dichloramine, the organoleptic effects between 0.1 and 0.5 mg/l were found to be “slight” and “acceptable”. \\nMost individuals are able to taste chloramines at concentrations below 5\\nmg/l, and some at levels as low as 0.3 mg/l.\\n\\nChlorine levels up to 4 milligrams per liter (mg/L or 4 parts per million (ppm)) are considered safe in drinking water.\\n\\n## Sulfate\\nSulfates occur naturally in numerous minerals and are used commercially, principally in the chemical industry. They are discharged into water in industrial wastes and through atmospheric deposition; however, the highest levels usually occur in groundwater and are from natural sources.\\nThe presence of sulfate in drinking-water can cause noticeable taste, and very high levels might cause a laxative effect in unaccustomed consumers. Taste impairment varies with the nature of the associated cation; taste thresholds have been found to range from 250 mg/l for sodium sulfate to 1000 mg/l for calcium sulfate. It is generally considered that taste impairment is minimal at levels below 250 mg/l. No health-based guideline value has been derived for sulfate.\\nNot of health concern at levels found in drinking-water.\\nThe ratio of the chloride and sulfate concentrations to the bicarbonate concentration (Larson ratio).\\n\\n## Conductivity\\nPure water is not a good conductor of electric current rather’s a good insulator. Increase in ions concentration enhances the electrical conductivity of water. Generally, the amount of dissolved solids in water determines the electrical conductivity. Electrical conductivity (EC) actually measures the ionic process of a solution that enables it to transmit current. According to WHO standards, EC value should not exceeded 400 μS/cm.\\n\\n## Total Organic Carbon (TOC)\\nHigh colour from natural organic carbon (e.g. humics) could also indicate a high propensity to produce by-products from disinfection processes. No health-based guideline value is proposed for colour in drinking-water. According to US EPA < 2 mg/L as TOC in treated / drinking water, and < 4 mg/Lit in source water which is use for treatment.\\n\\n## Trihalomethanes\\nTHMs are formed in drinking-water primarily as a result of chlorination of organic matter present naturally in raw water supplies. The rate and degree of THM formation increase as a function of the chlorine and humic acid concentration, temperature, pH and bromide ion concentration.\\nBromide can be involved in the reaction between chlorine and naturally occurring organic matter in drinking-water, forming brominated and mixed chloro-bromo by-products, such as trihalomethanes (THMs) and halogenated acetic acids (HAAs), or it can react with ozone to form bromate. Trihalomethanes and haloacetic acids are the most common DBPs and occur at among the highest concentrations in drinking-water.\\nTHM levels up to 80 ppm is considered safe in drinking water.\\n\\n## Turbidity\\nThe turbidity of water depends on the quantity of solid matter present in the suspended state. It is a measure of light emitting properties of water and the test is used to indicate the quality of waste discharge with respect to colloidal matter. \\nHigh levels of turbidity can protect microorganisms from the effects of disinfection, stimulate the growth of bacteria and give rise to a\\nsignificant chlorine demand.\\nThe mean turbidity value obtained for Wondo Genet Campus (0.98 NTU) is lower than the WHO recommended value of 5.00 NTU.\\n\\n## Potability\\nIndicates if water is safe for human consumption where 1 means Potable and 0 means Not potable.')]"
      ]
     },
     "execution_count": 119,
     "metadata": {},
     "output_type": "execute_result"
    }
   ],
   "source": [
    "df_t.filter( (length(df_t.value) > 5000)).tail(5)"
   ]
  },
  {
   "cell_type": "code",
   "execution_count": 28,
   "metadata": {},
   "outputs": [],
   "source": [
    "def traduzir(value, translator):\n",
    "    if translator.detect(value).lang != 'en':\n",
    "        return lower( translator.translate(value, dest='en').text )\n",
    "    else:\n",
    "        return lower( value )\n",
    "\n",
    "s_traduzir = udf(lambda x: traduzir(x,  Translator()))"
   ]
  },
  {
   "cell_type": "code",
   "execution_count": 29,
   "metadata": {},
   "outputs": [],
   "source": [
    "df_f = df_t.withColumn('value', when( df_t.tipo == 'markdown', s_traduzir(df_t.value)).otherwise( df_t.value ) )"
   ]
  },
  {
   "cell_type": "code",
   "execution_count": 30,
   "metadata": {},
   "outputs": [
    {
     "name": "stderr",
     "output_type": "stream",
     "text": []
    }
   ],
   "source": [
    "df_t.write.mode('overwrite').parquet(SAIDA)"
   ]
  },
  {
   "cell_type": "markdown",
   "metadata": {},
   "source": []
  },
  {
   "cell_type": "code",
   "execution_count": 31,
   "metadata": {},
   "outputs": [],
   "source": [
    "spark.stop()"
   ]
  },
  {
   "cell_type": "code",
   "execution_count": null,
   "metadata": {},
   "outputs": [],
   "source": []
  }
 ],
 "metadata": {
  "interpreter": {
   "hash": "ccb22227317f8cd9b05924a040f0ee801082497fe8966c9c0873f89fc1a7bca4"
  },
  "kernelspec": {
   "display_name": "Python 3.8.10 64-bit ('.markdown': venv)",
   "language": "python",
   "name": "python3"
  },
  "language_info": {
   "codemirror_mode": {
    "name": "ipython",
    "version": 3
   },
   "file_extension": ".py",
   "mimetype": "text/x-python",
   "name": "python",
   "nbconvert_exporter": "python",
   "pygments_lexer": "ipython3",
   "version": "3.8.10"
  },
  "orig_nbformat": 4
 },
 "nbformat": 4,
 "nbformat_minor": 2
}
