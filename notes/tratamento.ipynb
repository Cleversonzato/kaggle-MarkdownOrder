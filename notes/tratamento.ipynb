{
 "cells": [
  {
   "cell_type": "code",
   "execution_count": 30,
   "metadata": {},
   "outputs": [],
   "source": [
    "import os\n",
    "from pyspark.sql import SparkSession\n",
    "from pyspark.sql.functions import posexplode, explode, udf, when, regexp_replace, monotonically_increasing_id, lower\n",
    "from  pyspark.sql.types import StructType, StructField, StringType, MapType, ArrayType, FloatType\n",
    "from googletrans import Translator\n",
    "from spacy import load"
   ]
  },
  {
   "cell_type": "code",
   "execution_count": 2,
   "metadata": {},
   "outputs": [],
   "source": [
    "os.environ['PYSPARK_SUBMIT_ARGS'] = \"\"\"\n",
    "    --conf spark.app.name=\"tratamento\"\n",
    "    --conf spark.driver.memory=12g\n",
    "    --conf spark.executor.memory=12g\n",
    "    pyspark-shell\n",
    "    \"\"\""
   ]
  },
  {
   "cell_type": "code",
   "execution_count": 3,
   "metadata": {},
   "outputs": [
    {
     "name": "stderr",
     "output_type": "stream",
     "text": [
      "22/05/20 15:41:45 WARN Utils: Your hostname, DP6-PE07RZJL resolves to a loopback address: 127.0.1.1; using 192.168.15.200 instead (on interface wifi0)\n",
      "22/05/20 15:41:45 WARN Utils: Set SPARK_LOCAL_IP if you need to bind to another address\n",
      "WARNING: An illegal reflective access operation has occurred\n",
      "WARNING: Illegal reflective access by org.apache.spark.unsafe.Platform (file:/root/projetos/kaggle/markdown_order/.markdown/lib/python3.8/site-packages/pyspark/jars/spark-unsafe_2.12-3.2.1.jar) to constructor java.nio.DirectByteBuffer(long,int)\n",
      "WARNING: Please consider reporting this to the maintainers of org.apache.spark.unsafe.Platform\n",
      "WARNING: Use --illegal-access=warn to enable warnings of further illegal reflective access operations\n",
      "WARNING: All illegal access operations will be denied in a future release\n",
      "Using Spark's default log4j profile: org/apache/spark/log4j-defaults.properties\n",
      "Setting default log level to \"WARN\".\n",
      "To adjust logging level use sc.setLogLevel(newLevel). For SparkR, use setLogLevel(newLevel).\n",
      "22/05/20 15:41:46 WARN NativeCodeLoader: Unable to load native-hadoop library for your platform... using builtin-java classes where applicable\n"
     ]
    }
   ],
   "source": [
    "spark = SparkSession.builder.appName(\"spk\").getOrCreate()"
   ]
  },
  {
   "cell_type": "code",
   "execution_count": 4,
   "metadata": {},
   "outputs": [],
   "source": [
    "DADOS = '../dados/train/'\n",
    "SAIDA = '../dados/tratados/'"
   ]
  },
  {
   "cell_type": "code",
   "execution_count": 5,
   "metadata": {},
   "outputs": [],
   "source": [
    "json_schema = StructType([\n",
    "  StructField('cell_type',  MapType(StringType(),StringType()), False),\n",
    "  StructField('source',  MapType(StringType(),StringType()), False)\n",
    "])"
   ]
  },
  {
   "cell_type": "code",
   "execution_count": 6,
   "metadata": {},
   "outputs": [
    {
     "name": "stderr",
     "output_type": "stream",
     "text": [
      "22/05/20 15:42:07 WARN SharedInMemoryCache: Evicting cached table partition metadata from memory due to size constraints (spark.sql.hive.filesourcePartitionFileCacheSize = 262144000 bytes). This may impact query planning performance.\n"
     ]
    }
   ],
   "source": [
    "df = spark.read.option(\"multiline\", \"true\").json(DADOS, schema=json_schema)\n"
   ]
  },
  {
   "cell_type": "code",
   "execution_count": 8,
   "metadata": {},
   "outputs": [],
   "source": [
    "df = df.limit(50)"
   ]
  },
  {
   "cell_type": "code",
   "execution_count": 9,
   "metadata": {},
   "outputs": [],
   "source": [
    "df = df.withColumn('note_id', monotonically_increasing_id())"
   ]
  },
  {
   "cell_type": "code",
   "execution_count": 10,
   "metadata": {},
   "outputs": [],
   "source": [
    "df_cell_type = df.select( \n",
    "    posexplode( df.cell_type ), \n",
    "    df.note_id\n",
    ").withColumnRenamed('value', 'tipo')"
   ]
  },
  {
   "cell_type": "code",
   "execution_count": 11,
   "metadata": {},
   "outputs": [],
   "source": [
    "df_source = df.select( \n",
    "    explode( df.source ),\n",
    "    df.note_id\n",
    ")"
   ]
  },
  {
   "cell_type": "code",
   "execution_count": 12,
   "metadata": {},
   "outputs": [
    {
     "name": "stderr",
     "output_type": "stream",
     "text": []
    }
   ],
   "source": [
    "df_source = df_source.localCheckpoint()"
   ]
  },
  {
   "cell_type": "code",
   "execution_count": 13,
   "metadata": {},
   "outputs": [],
   "source": [
    "df_source = df_source.withColumn('value',\n",
    "    # regexp_replace(\n",
    "        # regexp_replace(\n",
    "            regexp_replace(\n",
    "                regexp_replace(\n",
    "                    regexp_replace(\n",
    "                        regexp_replace(df_source['value'] , r'<[^>]+>', ' '),\n",
    "                    r'\\!\\[([\\S\\s]*?)\\][\\S\\s]*?\\)', '$1'),\n",
    "                r\"b\\'[\\s\\S]*?\\'\", '< bytes >'),\n",
    "            r'b\\\"[\\s\\S]*?\\\"', '< bytes >'),\n",
    "        # r'<\\s*table[\\S\\s]*?table\\s*>', '< table >'),\n",
    "    # r'<[\\S\\s]*?src\\s*=[\\S\\s]*?>', '< image >')    \n",
    ")\n",
    "\n"
   ]
  },
  {
   "cell_type": "code",
   "execution_count": 14,
   "metadata": {},
   "outputs": [],
   "source": [
    "df_t = df_cell_type.join(df_source, ['key', 'note_id'], 'inner').drop('key').withColumn('value', lower('value'))"
   ]
  },
  {
   "cell_type": "code",
   "execution_count": 15,
   "metadata": {},
   "outputs": [
    {
     "name": "stderr",
     "output_type": "stream",
     "text": []
    }
   ],
   "source": [
    "df_t = df_t.localCheckpoint()"
   ]
  },
  {
   "cell_type": "code",
   "execution_count": 16,
   "metadata": {},
   "outputs": [],
   "source": [
    "from pyspark.sql.functions import length"
   ]
  },
  {
   "cell_type": "code",
   "execution_count": 17,
   "metadata": {},
   "outputs": [
    {
     "data": {
      "text/plain": [
       "9"
      ]
     },
     "execution_count": 17,
     "metadata": {},
     "output_type": "execute_result"
    }
   ],
   "source": [
    "df_t.filter( (length(df_t.value) > 10000)).count()"
   ]
  },
  {
   "cell_type": "code",
   "execution_count": 18,
   "metadata": {},
   "outputs": [],
   "source": [
    "def traduzir(value, translator):\n",
    "    if translator.detect(value).lang != 'en':\n",
    "        return translator.translate(value, dest='en').text\n",
    "    else:\n",
    "        return value\n",
    "\n",
    "s_traduzir = udf(lambda x: traduzir(x,  Translator() ))"
   ]
  },
  {
   "cell_type": "code",
   "execution_count": 48,
   "metadata": {},
   "outputs": [],
   "source": [
    "def vetorizar(value, nlp ):\n",
    "    return nlp(value).vector\n",
    "\n",
    "s_vetorizar = udf(lambda x: vetorizar(x, load('en_core_web_md') ).tolist() )"
   ]
  },
  {
   "cell_type": "code",
   "execution_count": 49,
   "metadata": {},
   "outputs": [],
   "source": [
    "# df_t = df_t.withColumn('valor', when( df_t.tipo == 'markdown', s_traduzir(df_t.value)).otherwise( df_t.value ) )"
   ]
  },
  {
   "cell_type": "code",
   "execution_count": 50,
   "metadata": {},
   "outputs": [],
   "source": [
    "df_f = df_t.withColumn('vector', s_vetorizar(df_t.value) )"
   ]
  },
  {
   "cell_type": "code",
   "execution_count": 47,
   "metadata": {},
   "outputs": [
    {
     "name": "stderr",
     "output_type": "stream",
     "text": []
    }
   ],
   "source": [
    "df_f.write.mode('overwrite').parquet(SAIDA)"
   ]
  },
  {
   "cell_type": "markdown",
   "metadata": {},
   "source": []
  },
  {
   "cell_type": "code",
   "execution_count": 51,
   "metadata": {},
   "outputs": [],
   "source": [
    "spark.stop()"
   ]
  },
  {
   "cell_type": "code",
   "execution_count": null,
   "metadata": {},
   "outputs": [],
   "source": []
  }
 ],
 "metadata": {
  "interpreter": {
   "hash": "ccb22227317f8cd9b05924a040f0ee801082497fe8966c9c0873f89fc1a7bca4"
  },
  "kernelspec": {
   "display_name": "Python 3.8.10 64-bit ('.markdown': venv)",
   "language": "python",
   "name": "python3"
  },
  "language_info": {
   "codemirror_mode": {
    "name": "ipython",
    "version": 3
   },
   "file_extension": ".py",
   "mimetype": "text/x-python",
   "name": "python",
   "nbconvert_exporter": "python",
   "pygments_lexer": "ipython3",
   "version": "3.8.10"
  },
  "orig_nbformat": 4
 },
 "nbformat": 4,
 "nbformat_minor": 2
}
